{
  "nbformat": 4,
  "nbformat_minor": 0,
  "metadata": {
    "colab": {
      "name": "selected.ipynb",
      "provenance": []
    },
    "kernelspec": {
      "name": "python3",
      "display_name": "Python 3"
    }
  },
  "cells": [
    {
      "cell_type": "code",
      "metadata": {
        "id": "fCoO3o9bZHX_"
      },
      "source": [
        "#import\n",
        "from sklearn.datasets import load_boston\n",
        "from sklearn.model_selection import train_test_split\n",
        "from sklearn.linear_model import LinearRegression , Lasso ,Ridge \n",
        "from sklearn.tree import DecisionTreeRegressor\n",
        "from sklearn.metrics import mean_absolute_error,mean_squared_error,median_absolute_error\n",
        "from sklearn.preprocessing import  MinMaxScaler\n",
        "import numpy as np\n",
        "import pandas as pd\n",
        "import matplotlib.pyplot as plt"
      ],
      "execution_count": null,
      "outputs": []
    },
    {
      "cell_type": "code",
      "metadata": {
        "id": "j8ttYjNAKb0N",
        "outputId": "c92a000b-f6d3-44e5-8a87-b544512f6e07",
        "colab": {
          "base_uri": "https://localhost:8080/",
          "height": 391
        }
      },
      "source": [
        "#read data\n",
        "data = pd.read_excel('/content/drive/My Drive/train.csv')\n",
        "data.head(3)"
      ],
      "execution_count": null,
      "outputs": [
        {
          "output_type": "execute_result",
          "data": {
            "text/html": [
              "<div>\n",
              "<style scoped>\n",
              "    .dataframe tbody tr th:only-of-type {\n",
              "        vertical-align: middle;\n",
              "    }\n",
              "\n",
              "    .dataframe tbody tr th {\n",
              "        vertical-align: top;\n",
              "    }\n",
              "\n",
              "    .dataframe thead th {\n",
              "        text-align: right;\n",
              "    }\n",
              "</style>\n",
              "<table border=\"1\" class=\"dataframe\">\n",
              "  <thead>\n",
              "    <tr style=\"text-align: right;\">\n",
              "      <th></th>\n",
              "      <th>X</th>\n",
              "      <th>Y</th>\n",
              "      <th>elevation</th>\n",
              "      <th>precip 2014-11-16 - 2014-11-23</th>\n",
              "      <th>precip 2014-11-23 - 2014-11-30</th>\n",
              "      <th>precip 2014-11-30 - 2014-12-07</th>\n",
              "      <th>precip 2014-12-07 - 2014-12-14</th>\n",
              "      <th>precip 2014-12-14 - 2014-12-21</th>\n",
              "      <th>precip 2014-12-21 - 2014-12-28</th>\n",
              "      <th>precip 2014-12-28 - 2015-01-04</th>\n",
              "      <th>precip 2015-01-04 - 2015-01-11</th>\n",
              "      <th>precip 2015-01-11 - 2015-01-18</th>\n",
              "      <th>precip 2015-01-18 - 2015-01-25</th>\n",
              "      <th>precip 2015-01-25 - 2015-02-01</th>\n",
              "      <th>precip 2015-02-01 - 2015-02-08</th>\n",
              "      <th>precip 2015-02-08 - 2015-02-15</th>\n",
              "      <th>precip 2015-02-15 - 2015-02-22</th>\n",
              "      <th>precip 2015-02-22 - 2015-03-01</th>\n",
              "      <th>precip 2015-03-01 - 2015-03-08</th>\n",
              "      <th>precip 2015-03-08 - 2015-03-15</th>\n",
              "      <th>target_2015</th>\n",
              "      <th>precip 2019-01-20 - 2019-01-27</th>\n",
              "      <th>precip 2019-01-27 - 2019-02-03</th>\n",
              "      <th>precip 2019-02-03 - 2019-02-10</th>\n",
              "      <th>precip 2019-02-10 - 2019-02-17</th>\n",
              "      <th>precip 2019-02-17 - 2019-02-24</th>\n",
              "      <th>precip 2019-02-24 - 2019-03-03</th>\n",
              "      <th>precip 2019-03-03 - 2019-03-10</th>\n",
              "      <th>precip 2019-03-10 - 2019-03-17</th>\n",
              "      <th>precip 2019-03-17 - 2019-03-24</th>\n",
              "      <th>precip 2019-03-24 - 2019-03-31</th>\n",
              "      <th>precip 2019-03-31 - 2019-04-07</th>\n",
              "      <th>precip 2019-04-07 - 2019-04-14</th>\n",
              "      <th>precip 2019-04-14 - 2019-04-21</th>\n",
              "      <th>precip 2019-04-21 - 2019-04-28</th>\n",
              "      <th>precip 2019-04-28 - 2019-05-05</th>\n",
              "      <th>precip 2019-05-05 - 2019-05-12</th>\n",
              "      <th>precip 2019-05-12 - 2019-05-19</th>\n",
              "      <th>LC_Type1_mode</th>\n",
              "      <th>Square_ID</th>\n",
              "    </tr>\n",
              "  </thead>\n",
              "  <tbody>\n",
              "    <tr>\n",
              "      <th>0</th>\n",
              "      <td>34.26</td>\n",
              "      <td>-15.91</td>\n",
              "      <td>887.764222</td>\n",
              "      <td>0.0</td>\n",
              "      <td>0.0</td>\n",
              "      <td>0.0</td>\n",
              "      <td>14.844025</td>\n",
              "      <td>14.552823</td>\n",
              "      <td>12.237766</td>\n",
              "      <td>57.451361</td>\n",
              "      <td>30.127047</td>\n",
              "      <td>30.449468</td>\n",
              "      <td>1.521829</td>\n",
              "      <td>29.389995</td>\n",
              "      <td>32.878318</td>\n",
              "      <td>8.179804</td>\n",
              "      <td>0.963981</td>\n",
              "      <td>16.659097</td>\n",
              "      <td>3.304466</td>\n",
              "      <td>0.0</td>\n",
              "      <td>0.0</td>\n",
              "      <td>12.99262</td>\n",
              "      <td>4.582856</td>\n",
              "      <td>35.037532</td>\n",
              "      <td>4.796012</td>\n",
              "      <td>28.083314</td>\n",
              "      <td>0.0</td>\n",
              "      <td>58.362456</td>\n",
              "      <td>18.264692</td>\n",
              "      <td>17.537486</td>\n",
              "      <td>0.896323</td>\n",
              "      <td>1.68</td>\n",
              "      <td>0.0</td>\n",
              "      <td>0.0</td>\n",
              "      <td>0.0</td>\n",
              "      <td>0.0</td>\n",
              "      <td>0.0</td>\n",
              "      <td>0.0</td>\n",
              "      <td>9</td>\n",
              "      <td>4e3c3896-14ce-11ea-bce5-f49634744a41</td>\n",
              "    </tr>\n",
              "    <tr>\n",
              "      <th>1</th>\n",
              "      <td>34.26</td>\n",
              "      <td>-15.90</td>\n",
              "      <td>743.403912</td>\n",
              "      <td>0.0</td>\n",
              "      <td>0.0</td>\n",
              "      <td>0.0</td>\n",
              "      <td>14.844025</td>\n",
              "      <td>14.552823</td>\n",
              "      <td>12.237766</td>\n",
              "      <td>57.451361</td>\n",
              "      <td>30.127047</td>\n",
              "      <td>30.449468</td>\n",
              "      <td>1.521829</td>\n",
              "      <td>29.389995</td>\n",
              "      <td>32.878318</td>\n",
              "      <td>8.179804</td>\n",
              "      <td>0.963981</td>\n",
              "      <td>16.659097</td>\n",
              "      <td>3.304466</td>\n",
              "      <td>0.0</td>\n",
              "      <td>0.0</td>\n",
              "      <td>12.99262</td>\n",
              "      <td>4.582856</td>\n",
              "      <td>35.037532</td>\n",
              "      <td>4.796012</td>\n",
              "      <td>28.083314</td>\n",
              "      <td>0.0</td>\n",
              "      <td>58.362456</td>\n",
              "      <td>18.264692</td>\n",
              "      <td>17.537486</td>\n",
              "      <td>0.896323</td>\n",
              "      <td>1.68</td>\n",
              "      <td>0.0</td>\n",
              "      <td>0.0</td>\n",
              "      <td>0.0</td>\n",
              "      <td>0.0</td>\n",
              "      <td>0.0</td>\n",
              "      <td>0.0</td>\n",
              "      <td>9</td>\n",
              "      <td>4e3c3897-14ce-11ea-bce5-f49634744a41</td>\n",
              "    </tr>\n",
              "    <tr>\n",
              "      <th>2</th>\n",
              "      <td>34.26</td>\n",
              "      <td>-15.89</td>\n",
              "      <td>565.728343</td>\n",
              "      <td>0.0</td>\n",
              "      <td>0.0</td>\n",
              "      <td>0.0</td>\n",
              "      <td>14.844025</td>\n",
              "      <td>14.552823</td>\n",
              "      <td>12.237766</td>\n",
              "      <td>57.451361</td>\n",
              "      <td>30.127047</td>\n",
              "      <td>30.449468</td>\n",
              "      <td>1.521829</td>\n",
              "      <td>29.389995</td>\n",
              "      <td>32.878318</td>\n",
              "      <td>8.179804</td>\n",
              "      <td>0.963981</td>\n",
              "      <td>16.659097</td>\n",
              "      <td>3.304466</td>\n",
              "      <td>0.0</td>\n",
              "      <td>0.0</td>\n",
              "      <td>12.99262</td>\n",
              "      <td>4.582856</td>\n",
              "      <td>35.037532</td>\n",
              "      <td>4.796012</td>\n",
              "      <td>28.083314</td>\n",
              "      <td>0.0</td>\n",
              "      <td>58.362456</td>\n",
              "      <td>18.264692</td>\n",
              "      <td>17.537486</td>\n",
              "      <td>0.896323</td>\n",
              "      <td>1.68</td>\n",
              "      <td>0.0</td>\n",
              "      <td>0.0</td>\n",
              "      <td>0.0</td>\n",
              "      <td>0.0</td>\n",
              "      <td>0.0</td>\n",
              "      <td>0.0</td>\n",
              "      <td>9</td>\n",
              "      <td>4e3c3898-14ce-11ea-bce5-f49634744a41</td>\n",
              "    </tr>\n",
              "  </tbody>\n",
              "</table>\n",
              "</div>"
            ],
            "text/plain": [
              "       X      Y  ...  LC_Type1_mode                             Square_ID\n",
              "0  34.26 -15.91  ...              9  4e3c3896-14ce-11ea-bce5-f49634744a41\n",
              "1  34.26 -15.90  ...              9  4e3c3897-14ce-11ea-bce5-f49634744a41\n",
              "2  34.26 -15.89  ...              9  4e3c3898-14ce-11ea-bce5-f49634744a41\n",
              "\n",
              "[3 rows x 40 columns]"
            ]
          },
          "metadata": {
            "tags": []
          },
          "execution_count": 2
        }
      ]
    },
    {
      "cell_type": "code",
      "metadata": {
        "id": "cAFEL36pMGWV",
        "outputId": "9cc26fa1-35da-4168-8639-5e110c234952",
        "colab": {
          "base_uri": "https://localhost:8080/",
          "height": 286
        }
      },
      "source": [
        "#split data\n",
        "newdata = data.loc[:,:'target_2015']\n",
        "scall = MinMaxScaler(feature_range=(0,0.2))\n",
        "newdata = scall.fit_transform(newdata)\n",
        "newdata = pd.DataFrame(newdata)\n",
        "X=newdata.iloc[:,:-1]\n",
        "y=newdata.iloc[:,-1]\n",
        "print(newdata.head(3))\n",
        "print(X.head(3))\n",
        "print(y.head(3))"
      ],
      "execution_count": null,
      "outputs": [
        {
          "output_type": "stream",
          "text": [
            "    0         1         2    3    4   ...        16        17        18   19   20\n",
            "0  0.0  0.102098  0.061080  0.0  0.0  ...  0.008875  0.065685  0.000188  0.0  0.0\n",
            "1  0.0  0.103497  0.050611  0.0  0.0  ...  0.008875  0.065685  0.000188  0.0  0.0\n",
            "2  0.0  0.104895  0.037725  0.0  0.0  ...  0.008875  0.065685  0.000188  0.0  0.0\n",
            "\n",
            "[3 rows x 21 columns]\n",
            "    0         1         2    3   ...        16        17        18   19\n",
            "0  0.0  0.102098  0.061080  0.0  ...  0.008875  0.065685  0.000188  0.0\n",
            "1  0.0  0.103497  0.050611  0.0  ...  0.008875  0.065685  0.000188  0.0\n",
            "2  0.0  0.104895  0.037725  0.0  ...  0.008875  0.065685  0.000188  0.0\n",
            "\n",
            "[3 rows x 20 columns]\n",
            "0    0.0\n",
            "1    0.0\n",
            "2    0.0\n",
            "Name: 20, dtype: float64\n"
          ],
          "name": "stdout"
        }
      ]
    },
    {
      "cell_type": "code",
      "metadata": {
        "id": "kBipDiblQ1up"
      },
      "source": [
        "#split data to train and test\n",
        "X_train ,  X_test , y_train  , y_test = train_test_split(X,y,test_size=0.2,random_state=42)\n"
      ],
      "execution_count": null,
      "outputs": []
    },
    {
      "cell_type": "code",
      "metadata": {
        "id": "PqXfByrkRAnU",
        "outputId": "8a6238e8-6fbd-4618-ded0-0b9d56504df3",
        "colab": {
          "base_uri": "https://localhost:8080/",
          "height": 50
        }
      },
      "source": [
        "#model1\n",
        "Model1 = LinearRegression()\n",
        "Model1.fit(X_train,y_train)\n",
        "print(Model1.score(X_train,y_train))\n",
        "print(Model1.score(X_test,y_test))\n",
        "y_pred = Model1.predict(X_test)"
      ],
      "execution_count": null,
      "outputs": [
        {
          "output_type": "stream",
          "text": [
            "0.16325794430865248\n",
            "0.1638988751689182\n"
          ],
          "name": "stdout"
        }
      ]
    },
    {
      "cell_type": "code",
      "metadata": {
        "id": "_lCwW8idSh1X",
        "outputId": "de437f75-642a-42e0-82c8-8cdf0d4cf4a9",
        "colab": {
          "base_uri": "https://localhost:8080/",
          "height": 67
        }
      },
      "source": [
        "#accursy1\n",
        "f1=mean_absolute_error(y_test,y_pred)\n",
        "f2=mean_squared_error(y_test,y_pred)\n",
        "f3=median_absolute_error(y_test,y_pred)\n",
        "print(f1)\n",
        "print(f2)\n",
        "print(f3)"
      ],
      "execution_count": null,
      "outputs": [
        {
          "output_type": "stream",
          "text": [
            "0.12074193114600085\n",
            "0.043430588229954194\n",
            "0.05813908225467583\n"
          ],
          "name": "stdout"
        }
      ]
    },
    {
      "cell_type": "code",
      "metadata": {
        "id": "pu0-I5PBVvZ5",
        "outputId": "0f3f047e-4a98-462b-ae34-7457faa580f2",
        "colab": {
          "base_uri": "https://localhost:8080/",
          "height": 50
        }
      },
      "source": [
        "#mode2\n",
        "Model2 = Lasso(alpha=0.0001,random_state=42)\n",
        "Model2.fit(X_train,y_train)\n",
        "print(Model2.score(X_train,y_train))\n",
        "print(Model2.score(X_test,y_test))\n",
        "y_pred2 = Model2.predict(X_test)"
      ],
      "execution_count": null,
      "outputs": [
        {
          "output_type": "stream",
          "text": [
            "0.16353295997406647\n",
            "0.1626235229065346\n"
          ],
          "name": "stdout"
        }
      ]
    },
    {
      "cell_type": "code",
      "metadata": {
        "id": "-9e9EjbwYKS2",
        "outputId": "65165d86-3ae1-4169-fbde-1e2dce69dc9f",
        "colab": {
          "base_uri": "https://localhost:8080/",
          "height": 67
        }
      },
      "source": [
        "#accursy2\n",
        "f1=mean_absolute_error(y_test,y_pred2)\n",
        "f2=mean_squared_error(y_test,y_pred2)\n",
        "f3=median_absolute_error(y_test,y_pred2)\n",
        "print(f1)\n",
        "print(f2)\n",
        "print(f3)"
      ],
      "execution_count": null,
      "outputs": [
        {
          "output_type": "stream",
          "text": [
            "0.11806163342355774\n",
            "0.042597227427817304\n",
            "0.06043228439598599\n"
          ],
          "name": "stdout"
        }
      ]
    },
    {
      "cell_type": "code",
      "metadata": {
        "id": "YRGklxZcYYGU",
        "outputId": "b5d790cf-c903-4a81-c4f1-4c439364abb0",
        "colab": {
          "base_uri": "https://localhost:8080/",
          "height": 50
        }
      },
      "source": [
        "#mode3\n",
        "Model3 = Ridge(alpha=0.1,random_state=42)\n",
        "Model3.fit(X_train,y_train)\n",
        "print(Model3.score(X_train,y_train))\n",
        "print(Model3.score(X_test,y_test))\n",
        "y_pred3 = Model3.predict(X_test)"
      ],
      "execution_count": null,
      "outputs": [
        {
          "output_type": "stream",
          "text": [
            "0.16355227136434225\n",
            "0.1624420769528312\n"
          ],
          "name": "stdout"
        }
      ]
    },
    {
      "cell_type": "code",
      "metadata": {
        "id": "-WK0pDtAa5dO",
        "outputId": "b312f746-ba86-4e96-8eac-e483c80605cf",
        "colab": {
          "base_uri": "https://localhost:8080/",
          "height": 67
        }
      },
      "source": [
        "#accursy2\n",
        "f1=mean_absolute_error(y_test,y_pred2)\n",
        "f2=mean_squared_error(y_test,y_pred2)\n",
        "f3=median_absolute_error(y_test,y_pred2)\n",
        "print(f1)\n",
        "print(f2)\n",
        "print(f3)"
      ],
      "execution_count": null,
      "outputs": [
        {
          "output_type": "stream",
          "text": [
            "0.11806163342355774\n",
            "0.042597227427817304\n",
            "0.06043228439598599\n"
          ],
          "name": "stdout"
        }
      ]
    },
    {
      "cell_type": "code",
      "metadata": {
        "id": "rvqr8ezfc9aA",
        "outputId": "3e1b7854-7295-4fc2-b17b-8945167dab9f",
        "colab": {
          "base_uri": "https://localhost:8080/",
          "height": 50
        }
      },
      "source": [
        "#TREE\n",
        "tree = DecisionTreeRegressor(max_depth=8,random_state=42)\n",
        "tree.fit(X_train,y_train)\n",
        "print(tree.score(X_train,y_train))\n",
        "print(tree.score(X_test,y_test))\n",
        "y_pred3 = tree.predict(X_test)"
      ],
      "execution_count": null,
      "outputs": [
        {
          "output_type": "stream",
          "text": [
            "0.8289871933936006\n",
            "0.7213158559986109\n"
          ],
          "name": "stdout"
        }
      ]
    }
  ]
}